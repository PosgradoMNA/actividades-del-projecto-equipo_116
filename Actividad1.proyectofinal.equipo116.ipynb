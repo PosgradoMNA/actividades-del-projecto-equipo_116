{
 "cells": [
  {
   "cell_type": "code",
   "execution_count": 1,
   "id": "8bf85ccf",
   "metadata": {},
   "outputs": [
    {
     "ename": "SyntaxError",
     "evalue": "invalid decimal literal (3369910695.py, line 7)",
     "output_type": "error",
     "traceback": [
      "\u001b[0;36m  Input \u001b[0;32mIn [1]\u001b[0;36m\u001b[0m\n\u001b[0;31m    https://drive.google.com/file/d/19QA2yjLBzM2AsNtvUo1cSLmDumsln4gc/view?usp=sharing\u001b[0m\n\u001b[0m                                     ^\u001b[0m\n\u001b[0;31mSyntaxError\u001b[0m\u001b[0;31m:\u001b[0m invalid decimal literal\n"
     ]
    }
   ],
   "source": [
    "El nombre que caracteriza el conjunto de datos - New York City Airbnb Open Data\n",
    "\n",
    "La organización que lo generó - Airbnb\n",
    "\n",
    "Incluya un enlace de Internet donde se puedan descargar en línea y enviar como una hoja de cálculo junto con su informe correspondiente \n",
    "Describe el conjunto de datos. \n",
    "https://drive.google.com/file/d/19QA2yjLBzM2AsNtvUo1cSLmDumsln4gc/view?usp=sharing\n",
    "\n",
    "\n",
    "¿Qué datos contiene? – El conjunto contiene la información de todas las ubicaciones Airbnb disponibles en Nueva York en el año 2019. \n",
    "La lista contiene información como: precio, tipo de habitación, dirección, vecindad, host id, reseñas.\n",
    "\n",
    "¿Cuáles son algunas de las preguntas de investigación que podría responder con estos datos? Enumere al menos OCHO (no responda las preguntas).\n",
    "\n",
    "Lo que intentamos resolver con este dataset es la crisis de vivienda que actualmente vive Nueva York\n",
    "\n",
    "1 Las habitaciones de Airbnb están cerca de zonas en New York donde los precios son excesivamente caros para los ciudadanos?\n",
    "2 Los precios de las habitaciones Airbnb son comparables -por vecindad- con las rentas a largo plaza de departamentos/casas en Nueva York?\n",
    "3 Existe relación entre la cantidad de habitaciones que tiene un dueño vs precios en la plataforma?\n",
    "4 Existe una relación entre habitaciones con número mínimo de noches alto y las vecindades donde la crisis de vivienda sea más alta en Nueva York?\n",
    "5 Las habitaciones con menos reseñas de los clientes tienen una relación directa con el precio de las mismas?\n",
    "6 Las habitaciones que tienen 0 en sus días disponibles para renta durante el año, están relacionadas con las zonas de vivienda más ocupadas en Nueva York?\n",
    "7 Existen zonas en Nueva York donde sea más fácil encontrar apartamentos completos vs solamente cuartos privados?\n",
    "8 Sobre la forma de promocionar las habitaciones, hay relación entre ciertas palabras usadas vs cantidad de reseñas dejadas?\n",
    "9 Existe correlación entre el precio de un Airbnb y que se encuentre cerca de una estación de metro?\n",
    "10 La calificación del arrendador tiene una relación con el precio de renta por noche ?\n",
    "11 Precio de renta por M2 acorde al vecindario\n",
    "\n",
    "¿Qué actor (empresa, sector de la sociedad, organismo descentralizado, gobierno, etc.) \n",
    "estaría interesado en las preguntas mencionadas que identificó?\n",
    "\n",
    "Entidad gubernamental – Es importante para ellos pues podrían ajustar tarifas de ventas de nuevos departamentos y\n",
    "ubicar las locaciones dónde la gente busca más lugares \n",
    "\n",
    "Sociedad en general – Se podría hacer una relación de las habitaciones disponibles màs baratas para la gente en \n",
    "Nueva York que no tiene casa y no puede pagar una renta tan alta, dado que el estudio también podría apoyar a las \n",
    "personas a encontrar un vecindario en donde vivir acorde a precio-calidad-conectividad.\n",
    "\n",
    "Airbnb – Comparar los datos de sus rentas vs la oferta de mercado en la crisis de vivienda de Nueva York, con el \n",
    "fin de optimizar sus rentas y obtener más ganancias.\n"
   ]
  },
  {
   "cell_type": "code",
   "execution_count": null,
   "id": "56386b26",
   "metadata": {},
   "outputs": [],
   "source": []
  }
 ],
 "metadata": {
  "kernelspec": {
   "display_name": "Python 3 (ipykernel)",
   "language": "python",
   "name": "python3"
  },
  "language_info": {
   "codemirror_mode": {
    "name": "ipython",
    "version": 3
   },
   "file_extension": ".py",
   "mimetype": "text/x-python",
   "name": "python",
   "nbconvert_exporter": "python",
   "pygments_lexer": "ipython3",
   "version": "3.10.5"
  }
 },
 "nbformat": 4,
 "nbformat_minor": 5
}
